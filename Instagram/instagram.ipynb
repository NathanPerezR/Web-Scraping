{
 "cells": [
  {
   "cell_type": "code",
   "execution_count": null,
   "metadata": {},
   "outputs": [],
   "source": [
    "# goal given list of famous people's names on instagram\n",
    "# get CSVname, userName, postID,likes, hashtag, comments, comment likes, picture(s)"
   ]
  },
  {
   "cell_type": "code",
   "execution_count": 10,
   "metadata": {},
   "outputs": [],
   "source": [
    "# code used throughout\n",
    "import requests\n",
    "import pandas as pd\n",
    "import json\n",
    "from bs4 import BeautifulSoup\n",
    "\n",
    "def save_html(html,path):\n",
    "  with open(path,'wb') as f:\n",
    "      f.write(html)\n",
    "\n",
    "def open_html(path):\n",
    "  with open(path,'rb') as f:\n",
    "      return f.read()"
   ]
  },
  {
   "cell_type": "code",
   "execution_count": 4,
   "metadata": {},
   "outputs": [
    {
     "name": "stdout",
     "output_type": "stream",
     "text": [
      "<bound method Response.json of <Response [200]>>\n"
     ]
    }
   ],
   "source": [
    "# change list of names to the userHandles based on the top search results\n",
    "listOfNames = [\"Richard Branson\", \"Rafael Nadal\", \"Lebron James\", \"Jane Fraser\", \"Chris Kempczinksi\", \"Spencer Rascoff\"]\n",
    "\n",
    "listOfNames = [\"Richard Branson\"]\n",
    "\n",
    "for name in listOfNames:\n",
    "  url = \"https://www.instagram.com/web/search/topsearch/?context=blended&query=\" + name\n",
    "  r = requests.get(url)\n",
    "\n",
    "\n",
    "#TODO: remove tmp list\n"
   ]
  },
  {
   "cell_type": "code",
   "execution_count": 22,
   "metadata": {},
   "outputs": [
    {
     "ename": "TypeError",
     "evalue": "the JSON object must be str, bytes or bytearray, not dict",
     "output_type": "error",
     "traceback": [
      "\u001b[1;31m---------------------------------------------------------------------------\u001b[0m",
      "\u001b[1;31mTypeError\u001b[0m                                 Traceback (most recent call last)",
      "\u001b[1;32mc:\\Users\\Nathan Perez\\Desktop\\Programing Stuff\\things on git\\Web-Scrape\\Web-Scraping\\Instagram\\instagram.ipynb Cell 4\u001b[0m line \u001b[0;36m1\n\u001b[1;32m----> <a href='vscode-notebook-cell:/c%3A/Users/Nathan%20Perez/Desktop/Programing%20Stuff/things%20on%20git/Web-Scrape/Web-Scraping/Instagram/instagram.ipynb#X14sZmlsZQ%3D%3D?line=0'>1</a>\u001b[0m resultJson \u001b[39m=\u001b[39m json\u001b[39m.\u001b[39;49mloads(r\u001b[39m.\u001b[39;49mjson())\n\u001b[0;32m      <a href='vscode-notebook-cell:/c%3A/Users/Nathan%20Perez/Desktop/Programing%20Stuff/things%20on%20git/Web-Scrape/Web-Scraping/Instagram/instagram.ipynb#X14sZmlsZQ%3D%3D?line=1'>2</a>\u001b[0m \u001b[39mprint\u001b[39m(resultJson[\u001b[39m'\u001b[39m\u001b[39musers\u001b[39m\u001b[39m'\u001b[39m])\n",
      "File \u001b[1;32mC:\\Program Files\\WindowsApps\\PythonSoftwareFoundation.Python.3.10_3.10.3056.0_x64__qbz5n2kfra8p0\\lib\\json\\__init__.py:339\u001b[0m, in \u001b[0;36mloads\u001b[1;34m(s, cls, object_hook, parse_float, parse_int, parse_constant, object_pairs_hook, **kw)\u001b[0m\n\u001b[0;32m    337\u001b[0m \u001b[39melse\u001b[39;00m:\n\u001b[0;32m    338\u001b[0m     \u001b[39mif\u001b[39;00m \u001b[39mnot\u001b[39;00m \u001b[39misinstance\u001b[39m(s, (\u001b[39mbytes\u001b[39m, \u001b[39mbytearray\u001b[39m)):\n\u001b[1;32m--> 339\u001b[0m         \u001b[39mraise\u001b[39;00m \u001b[39mTypeError\u001b[39;00m(\u001b[39mf\u001b[39m\u001b[39m'\u001b[39m\u001b[39mthe JSON object must be str, bytes or bytearray, \u001b[39m\u001b[39m'\u001b[39m\n\u001b[0;32m    340\u001b[0m                         \u001b[39mf\u001b[39m\u001b[39m'\u001b[39m\u001b[39mnot \u001b[39m\u001b[39m{\u001b[39;00ms\u001b[39m.\u001b[39m\u001b[39m__class__\u001b[39m\u001b[39m.\u001b[39m\u001b[39m__name__\u001b[39m\u001b[39m}\u001b[39;00m\u001b[39m'\u001b[39m)\n\u001b[0;32m    341\u001b[0m     s \u001b[39m=\u001b[39m s\u001b[39m.\u001b[39mdecode(detect_encoding(s), \u001b[39m'\u001b[39m\u001b[39msurrogatepass\u001b[39m\u001b[39m'\u001b[39m)\n\u001b[0;32m    343\u001b[0m \u001b[39mif\u001b[39;00m (\u001b[39mcls\u001b[39m \u001b[39mis\u001b[39;00m \u001b[39mNone\u001b[39;00m \u001b[39mand\u001b[39;00m object_hook \u001b[39mis\u001b[39;00m \u001b[39mNone\u001b[39;00m \u001b[39mand\u001b[39;00m\n\u001b[0;32m    344\u001b[0m         parse_int \u001b[39mis\u001b[39;00m \u001b[39mNone\u001b[39;00m \u001b[39mand\u001b[39;00m parse_float \u001b[39mis\u001b[39;00m \u001b[39mNone\u001b[39;00m \u001b[39mand\u001b[39;00m\n\u001b[0;32m    345\u001b[0m         parse_constant \u001b[39mis\u001b[39;00m \u001b[39mNone\u001b[39;00m \u001b[39mand\u001b[39;00m object_pairs_hook \u001b[39mis\u001b[39;00m \u001b[39mNone\u001b[39;00m \u001b[39mand\u001b[39;00m \u001b[39mnot\u001b[39;00m kw):\n",
      "\u001b[1;31mTypeError\u001b[0m: the JSON object must be str, bytes or bytearray, not dict"
     ]
    }
   ],
   "source": [
    "resultJson = json.loads(r.json())\n",
    "print(resultJson['users'])"
   ]
  },
  {
   "cell_type": "code",
   "execution_count": null,
   "metadata": {},
   "outputs": [],
   "source": [
    "# Deal with the IP stuff with Scrapy or urllib and tor"
   ]
  },
  {
   "cell_type": "code",
   "execution_count": null,
   "metadata": {},
   "outputs": [],
   "source": [
    "# consts, predefining, general variable declaration\n",
    "# if running to collect all data under 1 account, this can be left unchanged\n",
    "\n",
    "# define the number of pages to process \n",
    "MAX_TO_PROCESS = len(listOfHandle) \n",
    "\n",
    "# define max amount of data to output in csv\n",
    "MAX_OUTPUT_CSV = \"inf\"\n",
    "\n",
    "# define range of posts to get per user\n",
    "MAX_POSTS = \"inf\"\n",
    "MIN_POSTS = 0\n",
    "\n",
    "# define range comments to get per user\n",
    "MAX_COMMENTS = \"inf\"\n",
    "MIN_COMMENTS = 0\n",
    "\n",
    "# define range of likes required to collect a comment\n",
    "MAX_LIKES = \"inf\"\n",
    "MIN_LIKES = 0\n",
    "\n",
    "# define range of pictures allowed per post \n",
    "MAX_POST_PIC = \"inf\"\n",
    "MIN_POST_PIC = 0\n",
    "\n",
    "# define range of hashtags allowed to be collect per post\n",
    "MAX_HASHTAG = \"inf\"\n",
    "MIN_HASHTAG = 0 \n",
    "\n"
   ]
  },
  {
   "cell_type": "code",
   "execution_count": null,
   "metadata": {},
   "outputs": [],
   "source": [
    "# function def to return the requested information\n",
    "\n",
    "  # raw html\n",
    " \n",
    "  # postID\n",
    "\n",
    "  # post likes\n",
    "\n",
    "  # follow count\n",
    "\n",
    "  # hashtag  \n",
    "\n",
    "  # comments  \n",
    "\n",
    "  # comment likes \n",
    "\n",
    "  # picture(s)"
   ]
  },
  {
   "cell_type": "code",
   "execution_count": null,
   "metadata": {},
   "outputs": [],
   "source": [
    "# configure tags HTML ID's as variables just incase stuff changes"
   ]
  },
  {
   "cell_type": "code",
   "execution_count": null,
   "metadata": {},
   "outputs": [],
   "source": [
    "# create data frame with the info, output to CSV\n",
    "for i in range(MAX_TO_PROCESS):\n",
    "\n",
    "  # make a data frame, make the userName a unique ID, two people can not have the same one\n",
    "  \n",
    "  # the parameters predefined before the scrape are the selectors used to grab the data, just in case it ever changes\n",
    "\n",
    "  # scrape, userName, postID,likes, hashtag, comments, comment likes, picture(s) into dataframe\n",
    "\n",
    "  # raw html\n",
    " \n",
    "  # postID\n",
    "\n",
    "  # post likes\n",
    "\n",
    "  # follow count\n",
    "\n",
    "  # hashtag  \n",
    "\n",
    "  # comments  \n",
    "\n",
    "  # comment likes \n",
    "\n",
    "  # picture(s)"
   ]
  },
  {
   "cell_type": "code",
   "execution_count": null,
   "metadata": {},
   "outputs": [],
   "source": [
    "# Output data as CSV & JSON format below"
   ]
  },
  {
   "cell_type": "code",
   "execution_count": null,
   "metadata": {},
   "outputs": [],
   "source": [
    "# SEARCH \n",
    "#     PARAMETERS\n",
    "#       any input the user listed in key value pair\n",
    "#     OUTPUT\n",
    "#       json data from request\n",
    "# COLLECTED_DATA\n",
    "#   raw html\n",
    "#   postID\n",
    "#   post likes\n",
    "#   follow count\n",
    "#   # caption\n",
    "#   # just hashtags\n",
    "#   comments\n",
    "#   comment likes \n",
    "#   picture(s)x\n",
    "#   date posted?\n",
    "#   date script collected "
   ]
  }
 ],
 "metadata": {
  "kernelspec": {
   "display_name": "Python 3",
   "language": "python",
   "name": "python3"
  },
  "language_info": {
   "codemirror_mode": {
    "name": "ipython",
    "version": 3
   },
   "file_extension": ".py",
   "mimetype": "text/x-python",
   "name": "python",
   "nbconvert_exporter": "python",
   "pygments_lexer": "ipython3",
   "version": "3.10.11"
  },
  "orig_nbformat": 4
 },
 "nbformat": 4,
 "nbformat_minor": 2
}
