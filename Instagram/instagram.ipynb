{
 "cells": [
  {
   "cell_type": "code",
   "execution_count": null,
   "metadata": {},
   "outputs": [],
   "source": [
    "# goal given list of famous people's names on instagram\n",
    "# get CSVname, userName, postID,likes, hashtag, comments, comment likes, picture(s)"
   ]
  },
  {
   "cell_type": "code",
   "execution_count": null,
   "metadata": {},
   "outputs": [],
   "source": [
    "# code used throughout\n",
    "import requests\n",
    "import pandas as pd\n",
    "from bs4 import BeautifulSoup\n",
    "\n",
    "def save_html(html,path):\n",
    "  with open(path,'wb') as f:\n",
    "      f.write(html)\n",
    "\n",
    "def open_html(path):\n",
    "  with open(path,'rb') as f:\n",
    "      return f.read()"
   ]
  },
  {
   "cell_type": "code",
   "execution_count": null,
   "metadata": {},
   "outputs": [],
   "source": [
    "# change csv to a list of the userHandles based on the top search results\n",
    "\n",
    "# https://www.instagram.com/web/search/topsearch/?context=blended&query=avengers\n",
    "\n",
    "\n",
    "listOfHandle = [\"ut_dallas\",\"comet_hack\"]"
   ]
  },
  {
   "cell_type": "code",
   "execution_count": null,
   "metadata": {},
   "outputs": [],
   "source": [
    "# Deal with the IP stuff with Scrapy or urllib and tor"
   ]
  },
  {
   "cell_type": "code",
   "execution_count": null,
   "metadata": {},
   "outputs": [],
   "source": [
    "# consts, predefining, general variable declaration\n",
    "# if running to collect all data under 1 account, this can be left unchanged\n",
    "\n",
    "# define the number of pages to process \n",
    "MAX_TO_PROCESS = len(listOfHandle) \n",
    "\n",
    "# define max amount of data to output in csv\n",
    "MAX_OUTPUT_CSV = \"inf\"\n",
    "\n",
    "# define range of posts to get per user\n",
    "MAX_POSTS = \"inf\"\n",
    "MIN_POSTS = 0\n",
    "\n",
    "# define range comments to get per user\n",
    "MAX_COMMENTS = \"inf\"\n",
    "MIN_COMMENTS = 0\n",
    "\n",
    "# define range of likes required to collect a comment\n",
    "MAX_LIKES = \"inf\"\n",
    "MIN_LIKES = 0\n",
    "\n",
    "# define range of pictures allowed per post \n",
    "MAX_POST_PIC = \"inf\"\n",
    "MIN_POST_PIC = 0\n",
    "\n",
    "# define range of hashtags allowed to be collect per post\n",
    "MAX_HASHTAG = \"inf\"\n",
    "MIN_HASHTAG = 0 \n",
    "\n"
   ]
  },
  {
   "cell_type": "code",
   "execution_count": null,
   "metadata": {},
   "outputs": [],
   "source": [
    "# function def to return the requested information\n",
    "\n",
    "  # raw html\n",
    " \n",
    "  # postID\n",
    "\n",
    "  # post likes\n",
    "\n",
    "  # follow count\n",
    "\n",
    "  # hashtag  \n",
    "\n",
    "  # comments  \n",
    "\n",
    "  # comment likes \n",
    "\n",
    "  # picture(s)"
   ]
  },
  {
   "cell_type": "code",
   "execution_count": null,
   "metadata": {},
   "outputs": [],
   "source": [
    "# configure tags HTML ID's as variables just incase stuff changes"
   ]
  },
  {
   "cell_type": "code",
   "execution_count": null,
   "metadata": {},
   "outputs": [],
   "source": [
    "# create data frame with the info, output to CSV\n",
    "for i in range(MAX_TO_PROCESS):\n",
    "\n",
    "  # make a data frame, make the userName a unique ID, two people can not have the same one\n",
    "  \n",
    "  # the parameters predefined before the scrape are the selectors used to grab the data, just in case it ever changes\n",
    "\n",
    "  # scrape, userName, postID,likes, hashtag, comments, comment likes, picture(s) into dataframe\n",
    "\n",
    "  # raw html\n",
    " \n",
    "  # postID\n",
    "\n",
    "  # post likes\n",
    "\n",
    "  # follow count\n",
    "\n",
    "  # hashtag  \n",
    "\n",
    "  # comments  \n",
    "\n",
    "  # comment likes \n",
    "\n",
    "  # picture(s)"
   ]
  },
  {
   "cell_type": "code",
   "execution_count": null,
   "metadata": {},
   "outputs": [],
   "source": [
    "# Output data as CSV & JSON format below"
   ]
  },
  {
   "cell_type": "code",
   "execution_count": null,
   "metadata": {},
   "outputs": [],
   "source": [
    "# SEARCH \n",
    "#     PARAMETERS\n",
    "#       any input the user listed in key value pair\n",
    "#     OUTPUT\n",
    "#       json data from request\n",
    "# COLLECTED_DATA\n",
    "#   raw html\n",
    "#   postID\n",
    "#   post likes\n",
    "#   follow count\n",
    "#   # caption\n",
    "#   # just hashtags\n",
    "#   comments\n",
    "#   comment likes \n",
    "#   picture(s)x\n",
    "#   date posted?\n",
    "#   date script collected "
   ]
  }
 ],
 "metadata": {
  "language_info": {
   "name": "python"
  },
  "orig_nbformat": 4
 },
 "nbformat": 4,
 "nbformat_minor": 2
}
